{
 "cells": [
  {
   "cell_type": "code",
   "execution_count": null,
   "metadata": {
    "scrolled": true
   },
   "outputs": [],
   "source": [
    "import catboost\n",
    "import numpy as np\n",
    "import sklearn\n",
    "from sklearn.model_selection import train_test_split\n",
    "\n",
    "# fake dataset \n",
    "X = np.random.random((100000, 100)) - 0.5\n",
    "w = np.random.random((100,))\n",
    "y = np.sign(X.dot(w))\n",
    "X_tr, X_te, y_tr, y_te = train_test_split(X, y, test_size=0.2)\n",
    "\n",
    "# catboost pools\n",
    "train_pool = catboost.Pool(X_tr, y_tr)\n",
    "test_pool = catboost.Pool(X_te, y_te)\n",
    "\n",
    "clf = catboost.CatBoostClassifier(\n",
    "    train_dir='catboost_model_1',\n",
    "    loss_function='Logloss',\n",
    "    task_type='GPU'\n",
    ")\n",
    "\n",
    "clf.fit(\n",
    "    train_pool,\n",
    "    eval_set=test_pool,\n",
    "    verbose=100,\n",
    "    # plot=True  # doesn't work anyway\n",
    ")\n",
    "\n",
    "# visualizer doesn't work\n",
    "# w = catboost.MetricVisualizer('catboost_model_1')\n",
    "# w.start()"
   ]
  },
  {
   "cell_type": "code",
   "execution_count": null,
   "metadata": {},
   "outputs": [],
   "source": []
  }
 ],
 "metadata": {
  "kernelspec": {
   "display_name": "Python 2",
   "language": "python",
   "name": "python2"
  },
  "language_info": {
   "codemirror_mode": {
    "name": "ipython",
    "version": 2
   },
   "file_extension": ".py",
   "mimetype": "text/x-python",
   "name": "python",
   "nbconvert_exporter": "python",
   "pygments_lexer": "ipython2",
   "version": "2.7.12"
  }
 },
 "nbformat": 4,
 "nbformat_minor": 2
}
