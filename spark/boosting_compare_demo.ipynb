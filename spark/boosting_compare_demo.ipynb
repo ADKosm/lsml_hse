{
 "cells": [
  {
   "cell_type": "markdown",
   "metadata": {},
   "source": [
    "# Данные\n",
    "\n",
    "Загрузим данные, необходимые для работы примера."
   ]
  },
  {
   "cell_type": "code",
   "execution_count": 1,
   "metadata": {},
   "outputs": [
    {
     "name": "stdout",
     "output_type": "stream",
     "text": [
      "CPU times: user 5.45 s, sys: 536 ms, total: 5.98 s\n",
      "Wall time: 9min 19s\n"
     ]
    }
   ],
   "source": [
    "%%time\n",
    "\n",
    "! git clone --quiet https://github.com/guolinke/boosting_tree_benchmarks.git\n",
    "! cd boosting_tree_benchmarks/data\n",
    "! wget -q \"https://archive.ics.uci.edu/ml/machine-learning-databases/00280/HIGGS.csv.gz\"\n",
    "! gunzip -f HIGGS.csv.gz\n",
    "! python boosting_tree_benchmarks/data/higgs2libsvm.py\n",
    "! cd ../.."
   ]
  },
  {
   "cell_type": "code",
   "execution_count": 2,
   "metadata": {},
   "outputs": [
    {
     "name": "stdout",
     "output_type": "stream",
     "text": [
      "CPU times: user 3min 37s, sys: 2.22 s, total: 3min 39s\n",
      "Wall time: 3min 39s\n"
     ]
    }
   ],
   "source": [
    "%%time\n",
    "\n",
    "from sklearn.datasets import load_svmlight_files\n",
    "\n",
    "X_train, y_train, X_test, y_test = load_svmlight_files(\n",
    "    ('higgs.train', \n",
    "     'higgs.test'))"
   ]
  },
  {
   "cell_type": "markdown",
   "metadata": {},
   "source": [
    "Посмотрим на размеры данных и на точность константного предсказателя."
   ]
  },
  {
   "cell_type": "code",
   "execution_count": 25,
   "metadata": {},
   "outputs": [
    {
     "data": {
      "text/plain": [
       "(10500000, 28)"
      ]
     },
     "execution_count": 25,
     "metadata": {},
     "output_type": "execute_result"
    }
   ],
   "source": [
    "X_train.shape"
   ]
  },
  {
   "cell_type": "code",
   "execution_count": 33,
   "metadata": {},
   "outputs": [
    {
     "data": {
      "text/plain": [
       "0.529014"
      ]
     },
     "execution_count": 33,
     "metadata": {},
     "output_type": "execute_result"
    }
   ],
   "source": [
    "import numpy as np\n",
    "from scipy.stats import mode\n",
    "np.mean(y_test == mode(y_train)[0][0])"
   ]
  },
  {
   "cell_type": "markdown",
   "metadata": {},
   "source": [
    "# LightGBM\n",
    "\n",
    "Сравним скорость на CPU и GPU для реализации LightGBM."
   ]
  },
  {
   "cell_type": "code",
   "execution_count": 34,
   "metadata": {},
   "outputs": [],
   "source": [
    "import lightgbm as lgb"
   ]
  },
  {
   "cell_type": "code",
   "execution_count": 35,
   "metadata": {},
   "outputs": [
    {
     "name": "stdout",
     "output_type": "stream",
     "text": [
      "[1]\tvalid_0's binary_error: 0.32842\n",
      "[2]\tvalid_0's binary_error: 0.324932\n",
      "[3]\tvalid_0's binary_error: 0.319218\n",
      "[4]\tvalid_0's binary_error: 0.317836\n",
      "[5]\tvalid_0's binary_error: 0.313634\n",
      "[6]\tvalid_0's binary_error: 0.311608\n",
      "[7]\tvalid_0's binary_error: 0.309196\n",
      "[8]\tvalid_0's binary_error: 0.306998\n",
      "[9]\tvalid_0's binary_error: 0.305922\n",
      "[10]\tvalid_0's binary_error: 0.30437\n",
      "[11]\tvalid_0's binary_error: 0.302572\n",
      "[12]\tvalid_0's binary_error: 0.301128\n",
      "[13]\tvalid_0's binary_error: 0.299338\n",
      "[14]\tvalid_0's binary_error: 0.297698\n",
      "[15]\tvalid_0's binary_error: 0.29602\n",
      "[16]\tvalid_0's binary_error: 0.295076\n",
      "[17]\tvalid_0's binary_error: 0.29398\n",
      "[18]\tvalid_0's binary_error: 0.2929\n",
      "[19]\tvalid_0's binary_error: 0.291798\n",
      "[20]\tvalid_0's binary_error: 0.29095\n",
      "[21]\tvalid_0's binary_error: 0.289862\n",
      "[22]\tvalid_0's binary_error: 0.28934\n",
      "[23]\tvalid_0's binary_error: 0.288564\n",
      "[24]\tvalid_0's binary_error: 0.287786\n",
      "[25]\tvalid_0's binary_error: 0.287052\n",
      "CPU times: user 1min 59s, sys: 1.94 s, total: 2min 1s\n",
      "Wall time: 23.9 s\n"
     ]
    }
   ],
   "source": [
    "%%time\n",
    "\n",
    "lgb_gbm = lgb.LGBMClassifier(objective='binary',\n",
    "                             boosting_type='gbdt',\n",
    "                             device='cpu',\n",
    "                             n_estimators=25)\n",
    "\n",
    "lgb_gbm.fit(X_train, y_train,\n",
    "            eval_set=[(X_test, y_test)],\n",
    "            eval_metric='binary_error')"
   ]
  },
  {
   "cell_type": "code",
   "execution_count": 36,
   "metadata": {},
   "outputs": [
    {
     "name": "stdout",
     "output_type": "stream",
     "text": [
      "[1]\tvalid_0's binary_error: 0.32842\n",
      "[2]\tvalid_0's binary_error: 0.324932\n",
      "[3]\tvalid_0's binary_error: 0.319218\n",
      "[4]\tvalid_0's binary_error: 0.317836\n",
      "[5]\tvalid_0's binary_error: 0.313634\n",
      "[6]\tvalid_0's binary_error: 0.311608\n",
      "[7]\tvalid_0's binary_error: 0.309196\n",
      "[8]\tvalid_0's binary_error: 0.306998\n",
      "[9]\tvalid_0's binary_error: 0.305922\n",
      "[10]\tvalid_0's binary_error: 0.30437\n",
      "[11]\tvalid_0's binary_error: 0.302572\n",
      "[12]\tvalid_0's binary_error: 0.301128\n",
      "[13]\tvalid_0's binary_error: 0.299338\n",
      "[14]\tvalid_0's binary_error: 0.297698\n",
      "[15]\tvalid_0's binary_error: 0.29602\n",
      "[16]\tvalid_0's binary_error: 0.295076\n",
      "[17]\tvalid_0's binary_error: 0.29398\n",
      "[18]\tvalid_0's binary_error: 0.2929\n",
      "[19]\tvalid_0's binary_error: 0.291798\n",
      "[20]\tvalid_0's binary_error: 0.29095\n",
      "[21]\tvalid_0's binary_error: 0.289862\n",
      "[22]\tvalid_0's binary_error: 0.28934\n",
      "[23]\tvalid_0's binary_error: 0.288564\n",
      "[24]\tvalid_0's binary_error: 0.287786\n",
      "[25]\tvalid_0's binary_error: 0.287054\n",
      "CPU times: user 1min 49s, sys: 3.3 s, total: 1min 52s\n",
      "Wall time: 22.9 s\n"
     ]
    }
   ],
   "source": [
    "%%time\n",
    "\n",
    "lgb_gbm = lgb.LGBMClassifier(objective='binary',\n",
    "                             boosting_type='gbdt',\n",
    "                             device='gpu',\n",
    "                             n_estimators=25)\n",
    "\n",
    "lgb_gbm.fit(X_train, y_train,\n",
    "            eval_set=[(X_test, y_test)],\n",
    "            eval_metric='binary_error')"
   ]
  },
  {
   "cell_type": "code",
   "execution_count": 37,
   "metadata": {},
   "outputs": [
    {
     "name": "stdout",
     "output_type": "stream",
     "text": [
      "Accuracy:"
     ]
    },
    {
     "name": "stderr",
     "output_type": "stream",
     "text": [
      "/usr/local/lib/python2.7/dist-packages/sklearn/preprocessing/label.py:151: DeprecationWarning: The truth value of an empty array is ambiguous. Returning False, but in future this will result in an error. Use `array.size > 0` to check that an array is not empty.\n",
      "  if diff:\n"
     ]
    },
    {
     "name": "stdout",
     "output_type": "stream",
     "text": [
      " 0.712946\n",
      "AUC: 0.7895449896061647\n"
     ]
    }
   ],
   "source": [
    "from sklearn.metrics import accuracy_score, roc_auc_score\n",
    "\n",
    "print \"Accuracy:\", accuracy_score(y_test, lgb_gbm.predict(X_test))\n",
    "print \"AUC:\", roc_auc_score(y_test, lgb_gbm.predict_proba(X_test)[:, 1])"
   ]
  },
  {
   "cell_type": "markdown",
   "metadata": {},
   "source": [
    "# Catboost\n",
    "\n",
    "Проделаем аналогичные действия с реализацией Catboost."
   ]
  },
  {
   "cell_type": "code",
   "execution_count": 38,
   "metadata": {},
   "outputs": [
    {
     "name": "stdout",
     "output_type": "stream",
     "text": [
      "CPU times: user 30.2 s, sys: 2.9 s, total: 33.1 s\n",
      "Wall time: 30.1 s\n"
     ]
    }
   ],
   "source": [
    "%%time\n",
    "\n",
    "import catboost\n",
    "\n",
    "train_pool = catboost.Pool(X_train.toarray(), y_train)\n",
    "test_pool = catboost.Pool(X_test.toarray(), y_test)\n",
    "\n",
    "clf = catboost.CatBoostClassifier(\n",
    "    loss_function='Logloss',\n",
    "    iterations=25,\n",
    "    task_type='CPU'\n",
    ")"
   ]
  },
  {
   "cell_type": "code",
   "execution_count": 39,
   "metadata": {},
   "outputs": [
    {
     "name": "stdout",
     "output_type": "stream",
     "text": [
      "0:\tlearn: 0.6880803\ttest: 0.6880801\tbest: 0.6880801 (0)\ttotal: 1.76s\tremaining: 42.2s\n",
      "1:\tlearn: 0.6833516\ttest: 0.6833495\tbest: 0.6833495 (1)\ttotal: 3.5s\tremaining: 40.2s\n",
      "2:\tlearn: 0.6787728\ttest: 0.6787733\tbest: 0.6787733 (2)\ttotal: 5.28s\tremaining: 38.7s\n",
      "3:\tlearn: 0.6746698\ttest: 0.6746652\tbest: 0.6746652 (3)\ttotal: 7.23s\tremaining: 38s\n",
      "4:\tlearn: 0.6705258\ttest: 0.6705230\tbest: 0.6705230 (4)\ttotal: 8.96s\tremaining: 35.8s\n",
      "5:\tlearn: 0.6668154\ttest: 0.6668140\tbest: 0.6668140 (5)\ttotal: 10.7s\tremaining: 33.8s\n",
      "6:\tlearn: 0.6634037\ttest: 0.6633938\tbest: 0.6633938 (6)\ttotal: 12.4s\tremaining: 31.9s\n",
      "7:\tlearn: 0.6599678\ttest: 0.6599591\tbest: 0.6599591 (7)\ttotal: 14.2s\tremaining: 30.1s\n",
      "8:\tlearn: 0.6569559\ttest: 0.6569357\tbest: 0.6569357 (8)\ttotal: 15.9s\tremaining: 28.2s\n",
      "9:\tlearn: 0.6538344\ttest: 0.6538132\tbest: 0.6538132 (9)\ttotal: 17.8s\tremaining: 26.8s\n",
      "10:\tlearn: 0.6508834\ttest: 0.6508601\tbest: 0.6508601 (10)\ttotal: 19.6s\tremaining: 24.9s\n",
      "11:\tlearn: 0.6483609\ttest: 0.6483348\tbest: 0.6483348 (11)\ttotal: 21.3s\tremaining: 23.1s\n",
      "12:\tlearn: 0.6459511\ttest: 0.6459211\tbest: 0.6459211 (12)\ttotal: 23.1s\tremaining: 21.3s\n",
      "13:\tlearn: 0.6434494\ttest: 0.6433941\tbest: 0.6433941 (13)\ttotal: 24.8s\tremaining: 19.5s\n",
      "14:\tlearn: 0.6410378\ttest: 0.6409839\tbest: 0.6409839 (14)\ttotal: 26.5s\tremaining: 17.7s\n",
      "15:\tlearn: 0.6388008\ttest: 0.6387223\tbest: 0.6387223 (15)\ttotal: 28.5s\tremaining: 16s\n",
      "16:\tlearn: 0.6365958\ttest: 0.6365170\tbest: 0.6365170 (16)\ttotal: 30.3s\tremaining: 14.2s\n",
      "17:\tlearn: 0.6345778\ttest: 0.6345055\tbest: 0.6345055 (17)\ttotal: 32s\tremaining: 12.4s\n",
      "18:\tlearn: 0.6329714\ttest: 0.6328949\tbest: 0.6328949 (18)\ttotal: 33.8s\tremaining: 10.7s\n",
      "19:\tlearn: 0.6311224\ttest: 0.6310488\tbest: 0.6310488 (19)\ttotal: 35.6s\tremaining: 8.9s\n",
      "20:\tlearn: 0.6294104\ttest: 0.6293449\tbest: 0.6293449 (20)\ttotal: 37.4s\tremaining: 7.12s\n",
      "21:\tlearn: 0.6276484\ttest: 0.6275829\tbest: 0.6275829 (21)\ttotal: 39.3s\tremaining: 5.36s\n",
      "22:\tlearn: 0.6258374\ttest: 0.6257731\tbest: 0.6257731 (22)\ttotal: 41.1s\tremaining: 3.57s\n",
      "23:\tlearn: 0.6244886\ttest: 0.6244129\tbest: 0.6244129 (23)\ttotal: 42.8s\tremaining: 1.78s\n",
      "24:\tlearn: 0.6227757\ttest: 0.6227023\tbest: 0.6227023 (24)\ttotal: 44.6s\tremaining: 0us\n",
      "\n",
      "bestTest = 0.6227022685\n",
      "bestIteration = 24\n",
      "\n",
      "Shrink model to first 25 iterations.\n",
      "CPU times: user 5min 53s, sys: 10.2 s, total: 6min 3s\n",
      "Wall time: 1min 16s\n"
     ]
    },
    {
     "data": {
      "text/plain": [
       "<catboost.core._CatBoostBase at 0x7f3ebcc11c90>"
      ]
     },
     "execution_count": 39,
     "metadata": {},
     "output_type": "execute_result"
    }
   ],
   "source": [
    "%%time\n",
    "\n",
    "clf.fit(\n",
    "    train_pool,\n",
    "    eval_set=test_pool\n",
    ")"
   ]
  },
  {
   "cell_type": "code",
   "execution_count": 40,
   "metadata": {},
   "outputs": [],
   "source": [
    "clf = catboost.CatBoostClassifier(\n",
    "    loss_function='Logloss',\n",
    "    iterations=25,\n",
    "    task_type='GPU'\n",
    ")"
   ]
  },
  {
   "cell_type": "code",
   "execution_count": 41,
   "metadata": {},
   "outputs": [
    {
     "name": "stdout",
     "output_type": "stream",
     "text": [
      "0:\tlearn: 0.6880601905\ttest: 0.68806\tbestTest:\t0.68806 (1)\ttotal: 351ms\tremaining: 8.43s\n",
      "1:\tlearn: 0.6832901429\ttest: 0.6832920625\tbestTest:\t0.6832920625 (2)\ttotal: 663ms\tremaining: 7.63s\n",
      "2:\tlearn: 0.6787926667\ttest: 0.67879325\tbestTest:\t0.67879325 (3)\ttotal: 952ms\tremaining: 6.98s\n",
      "3:\tlearn: 0.6746924762\ttest: 0.6746914375\tbestTest:\t0.6746914375 (4)\ttotal: 1.2s\tremaining: 6.3s\n",
      "4:\tlearn: 0.6705629524\ttest: 0.67056375\tbestTest:\t0.67056375 (5)\ttotal: 1.45s\tremaining: 5.78s\n",
      "5:\tlearn: 0.6669227143\ttest: 0.6669128125\tbestTest:\t0.6669128125 (6)\ttotal: 1.7s\tremaining: 5.38s\n",
      "6:\tlearn: 0.6633342381\ttest: 0.6633244375\tbestTest:\t0.6633244375 (7)\ttotal: 1.95s\tremaining: 5.02s\n",
      "7:\tlearn: 0.6599367143\ttest: 0.659933125\tbestTest:\t0.659933125 (8)\ttotal: 2.2s\tremaining: 4.68s\n",
      "8:\tlearn: 0.6569189524\ttest: 0.6569039375\tbestTest:\t0.6569039375 (9)\ttotal: 2.47s\tremaining: 4.39s\n",
      "9:\tlearn: 0.6537900476\ttest: 0.6537714375\tbestTest:\t0.6537714375 (10)\ttotal: 2.71s\tremaining: 4.07s\n",
      "10:\tlearn: 0.6509410476\ttest: 0.6509180625\tbestTest:\t0.6509180625 (11)\ttotal: 2.96s\tremaining: 3.77s\n",
      "11:\tlearn: 0.6484345238\ttest: 0.648395125\tbestTest:\t0.648395125 (12)\ttotal: 3.21s\tremaining: 3.48s\n",
      "12:\tlearn: 0.6457981905\ttest: 0.645752125\tbestTest:\t0.645752125 (13)\ttotal: 3.46s\tremaining: 3.2s\n",
      "13:\tlearn: 0.6433215238\ttest: 0.6432543125\tbestTest:\t0.6432543125 (14)\ttotal: 3.72s\tremaining: 2.92s\n",
      "14:\tlearn: 0.6409021429\ttest: 0.6408361875\tbestTest:\t0.6408361875 (15)\ttotal: 3.97s\tremaining: 2.64s\n",
      "15:\tlearn: 0.6386871429\ttest: 0.638626125\tbestTest:\t0.638626125 (16)\ttotal: 4.22s\tremaining: 2.37s\n",
      "16:\tlearn: 0.6365121905\ttest: 0.636427125\tbestTest:\t0.636427125 (17)\ttotal: 4.47s\tremaining: 2.1s\n",
      "17:\tlearn: 0.6344292381\ttest: 0.634353125\tbestTest:\t0.634353125 (18)\ttotal: 4.71s\tremaining: 1.83s\n",
      "18:\tlearn: 0.6323752381\ttest: 0.63230125\tbestTest:\t0.63230125 (19)\ttotal: 4.96s\tremaining: 1.56s\n",
      "19:\tlearn: 0.6304940952\ttest: 0.6304006875\tbestTest:\t0.6304006875 (20)\ttotal: 5.21s\tremaining: 1.3s\n",
      "20:\tlearn: 0.6286298095\ttest: 0.6285465\tbestTest:\t0.6285465 (21)\ttotal: 5.46s\tremaining: 1.04s\n",
      "21:\tlearn: 0.6272185238\ttest: 0.627128125\tbestTest:\t0.627128125 (22)\ttotal: 5.7s\tremaining: 777ms\n",
      "22:\tlearn: 0.6258586667\ttest: 0.6257623125\tbestTest:\t0.6257623125 (23)\ttotal: 5.94s\tremaining: 517ms\n",
      "23:\tlearn: 0.6242071429\ttest: 0.6241155625\tbestTest:\t0.6241155625 (24)\ttotal: 6.19s\tremaining: 258ms\n",
      "24:\tlearn: 0.6227957619\ttest: 0.6227159375\tbestTest:\t0.6227159375 (25)\ttotal: 6.44s\tremaining: 0us\n",
      "bestTest = 0.6227159375\n",
      "bestIteration = 25\n",
      "CPU times: user 1min 56s, sys: 9.12 s, total: 2min 6s\n",
      "Wall time: 38 s\n"
     ]
    },
    {
     "data": {
      "text/plain": [
       "<catboost.core._CatBoostBase at 0x7f3ebcbe0b50>"
      ]
     },
     "execution_count": 41,
     "metadata": {},
     "output_type": "execute_result"
    }
   ],
   "source": [
    "%%time\n",
    "\n",
    "clf.fit(\n",
    "    train_pool,\n",
    "    eval_set=test_pool\n",
    ")"
   ]
  },
  {
   "cell_type": "code",
   "execution_count": 42,
   "metadata": {},
   "outputs": [
    {
     "name": "stdout",
     "output_type": "stream",
     "text": [
      "Accuracy: 0.679938\n",
      "AUC: 0.7467504764417499\n"
     ]
    }
   ],
   "source": [
    "print \"Accuracy:\", accuracy_score(y_test, clf.predict(X_test.toarray()))\n",
    "print \"AUC:\", roc_auc_score(y_test, clf.predict_proba(X_test.toarray())[:, 1])"
   ]
  },
  {
   "cell_type": "markdown",
   "metadata": {},
   "source": [
    "На что стоит обратить внимание:\n",
    "\n",
    "* Скорость работы на GPU выше даже если сравнивать с параллельной версией, использующей несколько CPU.\n",
    "* Для GPU много времени занимает трансляция модели в код для GPU, поэтому для большого количество итераций прирост производительности выше.\n",
    "* При аналогичных параметрах обучения на GPU и CPU могут получаться разные результаты. Это связано с тем, что на CPU и на GPU используется немного разная арифметика с плавающей точкой.\n",
    "\n",
    "**Упражнения:** \n",
    "\n",
    "* Попробуйте получить максимально возможную точность на этих данных с помощью любой из реализаций.\n",
    "* Сравните скорость работы этих реализаций и реализаций в sklearn и Spark.MLLib"
   ]
  }
 ],
 "metadata": {
  "kernelspec": {
   "display_name": "Python 2",
   "language": "python",
   "name": "python2"
  },
  "language_info": {
   "codemirror_mode": {
    "name": "ipython",
    "version": 2
   },
   "file_extension": ".py",
   "mimetype": "text/x-python",
   "name": "python",
   "nbconvert_exporter": "python",
   "pygments_lexer": "ipython2",
   "version": "2.7.12"
  }
 },
 "nbformat": 4,
 "nbformat_minor": 2
}
